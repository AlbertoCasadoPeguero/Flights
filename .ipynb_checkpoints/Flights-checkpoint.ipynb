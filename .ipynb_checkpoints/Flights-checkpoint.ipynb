{
 "cells": [
  {
   "cell_type": "markdown",
   "metadata": {},
   "source": [
    "# Super Data Science Club Reto Mensual - 1"
   ]
  },
  {
   "cell_type": "markdown",
   "metadata": {},
   "source": [
    "## Para este primer reto tenemos el dataset del Departamento de Transporte de USA (DoT) donde debemos analizar y tratar de reducir el numero de cancelacion de vuelos y mejorar la experiencia de los viajantes. El reto es ayudar el DoT predecir si un vuelo sera cancelado o no con la data suministrada."
   ]
  },
  {
   "cell_type": "markdown",
   "metadata": {},
   "source": [
    "# Exploracion de la data."
   ]
  },
  {
   "cell_type": "markdown",
   "metadata": {},
   "source": [
    "### Importando las primeras librerias para iniciar."
   ]
  },
  {
   "cell_type": "code",
   "execution_count": 1,
   "metadata": {},
   "outputs": [],
   "source": [
    "import numpy as np\n",
    "import pandas as pd"
   ]
  },
  {
   "cell_type": "markdown",
   "metadata": {},
   "source": [
    "### Importanto la data y un primer vistazo."
   ]
  },
  {
   "cell_type": "code",
   "execution_count": 2,
   "metadata": {},
   "outputs": [
    {
     "data": {
      "text/html": [
       "<div>\n",
       "<style scoped>\n",
       "    .dataframe tbody tr th:only-of-type {\n",
       "        vertical-align: middle;\n",
       "    }\n",
       "\n",
       "    .dataframe tbody tr th {\n",
       "        vertical-align: top;\n",
       "    }\n",
       "\n",
       "    .dataframe thead th {\n",
       "        text-align: right;\n",
       "    }\n",
       "</style>\n",
       "<table border=\"1\" class=\"dataframe\">\n",
       "  <thead>\n",
       "    <tr style=\"text-align: right;\">\n",
       "      <th></th>\n",
       "      <th>YEAR</th>\n",
       "      <th>MONTH</th>\n",
       "      <th>DAY</th>\n",
       "      <th>DAY_OF_WEEK</th>\n",
       "      <th>AIRLINE</th>\n",
       "      <th>FLIGHT_NUMBER</th>\n",
       "      <th>TAIL_NUMBER</th>\n",
       "      <th>ORIGIN_AIRPORT</th>\n",
       "      <th>DESTINATION_AIRPORT</th>\n",
       "      <th>SCHEDULED_DEPARTURE</th>\n",
       "      <th>SCHEDULED_TIME</th>\n",
       "      <th>DISTANCE</th>\n",
       "      <th>SCHEDULED_ARRIVAL</th>\n",
       "      <th>CANCELLED</th>\n",
       "    </tr>\n",
       "  </thead>\n",
       "  <tbody>\n",
       "    <tr>\n",
       "      <th>0</th>\n",
       "      <td>2015</td>\n",
       "      <td>1</td>\n",
       "      <td>1</td>\n",
       "      <td>4</td>\n",
       "      <td>AS</td>\n",
       "      <td>98</td>\n",
       "      <td>N407AS</td>\n",
       "      <td>ANC</td>\n",
       "      <td>SEA</td>\n",
       "      <td>5</td>\n",
       "      <td>205.0</td>\n",
       "      <td>1448</td>\n",
       "      <td>430</td>\n",
       "      <td>0</td>\n",
       "    </tr>\n",
       "    <tr>\n",
       "      <th>1</th>\n",
       "      <td>2015</td>\n",
       "      <td>1</td>\n",
       "      <td>1</td>\n",
       "      <td>4</td>\n",
       "      <td>AA</td>\n",
       "      <td>2336</td>\n",
       "      <td>N3KUAA</td>\n",
       "      <td>LAX</td>\n",
       "      <td>PBI</td>\n",
       "      <td>10</td>\n",
       "      <td>280.0</td>\n",
       "      <td>2330</td>\n",
       "      <td>750</td>\n",
       "      <td>0</td>\n",
       "    </tr>\n",
       "    <tr>\n",
       "      <th>2</th>\n",
       "      <td>2015</td>\n",
       "      <td>1</td>\n",
       "      <td>1</td>\n",
       "      <td>4</td>\n",
       "      <td>US</td>\n",
       "      <td>840</td>\n",
       "      <td>N171US</td>\n",
       "      <td>SFO</td>\n",
       "      <td>CLT</td>\n",
       "      <td>20</td>\n",
       "      <td>286.0</td>\n",
       "      <td>2296</td>\n",
       "      <td>806</td>\n",
       "      <td>0</td>\n",
       "    </tr>\n",
       "    <tr>\n",
       "      <th>3</th>\n",
       "      <td>2015</td>\n",
       "      <td>1</td>\n",
       "      <td>1</td>\n",
       "      <td>4</td>\n",
       "      <td>AA</td>\n",
       "      <td>258</td>\n",
       "      <td>N3HYAA</td>\n",
       "      <td>LAX</td>\n",
       "      <td>MIA</td>\n",
       "      <td>20</td>\n",
       "      <td>285.0</td>\n",
       "      <td>2342</td>\n",
       "      <td>805</td>\n",
       "      <td>0</td>\n",
       "    </tr>\n",
       "    <tr>\n",
       "      <th>4</th>\n",
       "      <td>2015</td>\n",
       "      <td>1</td>\n",
       "      <td>1</td>\n",
       "      <td>4</td>\n",
       "      <td>AS</td>\n",
       "      <td>135</td>\n",
       "      <td>N527AS</td>\n",
       "      <td>SEA</td>\n",
       "      <td>ANC</td>\n",
       "      <td>25</td>\n",
       "      <td>235.0</td>\n",
       "      <td>1448</td>\n",
       "      <td>320</td>\n",
       "      <td>0</td>\n",
       "    </tr>\n",
       "  </tbody>\n",
       "</table>\n",
       "</div>"
      ],
      "text/plain": [
       "   YEAR  MONTH  DAY  DAY_OF_WEEK AIRLINE  FLIGHT_NUMBER TAIL_NUMBER  \\\n",
       "0  2015      1    1            4      AS             98      N407AS   \n",
       "1  2015      1    1            4      AA           2336      N3KUAA   \n",
       "2  2015      1    1            4      US            840      N171US   \n",
       "3  2015      1    1            4      AA            258      N3HYAA   \n",
       "4  2015      1    1            4      AS            135      N527AS   \n",
       "\n",
       "  ORIGIN_AIRPORT DESTINATION_AIRPORT  SCHEDULED_DEPARTURE  SCHEDULED_TIME  \\\n",
       "0            ANC                 SEA                    5           205.0   \n",
       "1            LAX                 PBI                   10           280.0   \n",
       "2            SFO                 CLT                   20           286.0   \n",
       "3            LAX                 MIA                   20           285.0   \n",
       "4            SEA                 ANC                   25           235.0   \n",
       "\n",
       "   DISTANCE  SCHEDULED_ARRIVAL  CANCELLED  \n",
       "0      1448                430          0  \n",
       "1      2330                750          0  \n",
       "2      2296                806          0  \n",
       "3      2342                805          0  \n",
       "4      1448                320          0  "
      ]
     },
     "execution_count": 2,
     "metadata": {},
     "output_type": "execute_result"
    }
   ],
   "source": [
    "data = pd.read_csv('E:\\Python\\Machine Learning\\SDS Club Challenges\\September Challenge\\Data\\public_flights.csv')\n",
    "data.head()"
   ]
  },
  {
   "cell_type": "markdown",
   "metadata": {},
   "source": [
    "### Verificando los valores nulos o faltantes."
   ]
  },
  {
   "cell_type": "code",
   "execution_count": 3,
   "metadata": {},
   "outputs": [
    {
     "data": {
      "text/plain": [
       "YEAR                      0\n",
       "MONTH                     0\n",
       "DAY                       0\n",
       "DAY_OF_WEEK               0\n",
       "AIRLINE                   0\n",
       "FLIGHT_NUMBER             0\n",
       "TAIL_NUMBER            5981\n",
       "ORIGIN_AIRPORT            0\n",
       "DESTINATION_AIRPORT       0\n",
       "SCHEDULED_DEPARTURE       0\n",
       "SCHEDULED_TIME            2\n",
       "DISTANCE                  0\n",
       "SCHEDULED_ARRIVAL         0\n",
       "CANCELLED                 0\n",
       "dtype: int64"
      ]
     },
     "execution_count": 3,
     "metadata": {},
     "output_type": "execute_result"
    }
   ],
   "source": [
    "data.isnull().sum()"
   ]
  },
  {
   "cell_type": "code",
   "execution_count": 4,
   "metadata": {},
   "outputs": [
    {
     "data": {
      "text/plain": [
       "YEAR                   0.000000\n",
       "MONTH                  0.000000\n",
       "DAY                    0.000000\n",
       "DAY_OF_WEEK            0.000000\n",
       "AIRLINE                0.000000\n",
       "FLIGHT_NUMBER          0.000000\n",
       "TAIL_NUMBER            0.007130\n",
       "ORIGIN_AIRPORT         0.000000\n",
       "DESTINATION_AIRPORT    0.000000\n",
       "SCHEDULED_DEPARTURE    0.000000\n",
       "SCHEDULED_TIME         0.000002\n",
       "DISTANCE               0.000000\n",
       "SCHEDULED_ARRIVAL      0.000000\n",
       "CANCELLED              0.000000\n",
       "dtype: float64"
      ]
     },
     "execution_count": 4,
     "metadata": {},
     "output_type": "execute_result"
    }
   ],
   "source": [
    "data.isnull().sum() / len(data)"
   ]
  },
  {
   "cell_type": "markdown",
   "metadata": {},
   "source": [
    "### Como los registros con valores faltantes son muy pocos, eliminarlos no nos afecta mucho (aunque esta opcion nunca debe ser la primera)."
   ]
  },
  {
   "cell_type": "code",
   "execution_count": 5,
   "metadata": {},
   "outputs": [
    {
     "name": "stdout",
     "output_type": "stream",
     "text": [
      "<class 'pandas.core.frame.DataFrame'>\n",
      "Int64Index: 832875 entries, 0 to 838857\n",
      "Data columns (total 14 columns):\n",
      " #   Column               Non-Null Count   Dtype  \n",
      "---  ------               --------------   -----  \n",
      " 0   YEAR                 832875 non-null  int64  \n",
      " 1   MONTH                832875 non-null  int64  \n",
      " 2   DAY                  832875 non-null  int64  \n",
      " 3   DAY_OF_WEEK          832875 non-null  int64  \n",
      " 4   AIRLINE              832875 non-null  object \n",
      " 5   FLIGHT_NUMBER        832875 non-null  int64  \n",
      " 6   TAIL_NUMBER          832875 non-null  object \n",
      " 7   ORIGIN_AIRPORT       832875 non-null  object \n",
      " 8   DESTINATION_AIRPORT  832875 non-null  object \n",
      " 9   SCHEDULED_DEPARTURE  832875 non-null  int64  \n",
      " 10  SCHEDULED_TIME       832875 non-null  float64\n",
      " 11  DISTANCE             832875 non-null  int64  \n",
      " 12  SCHEDULED_ARRIVAL    832875 non-null  int64  \n",
      " 13  CANCELLED            832875 non-null  int64  \n",
      "dtypes: float64(1), int64(9), object(4)\n",
      "memory usage: 95.3+ MB\n"
     ]
    }
   ],
   "source": [
    "dataset = data.dropna()\n",
    "dataset.info()"
   ]
  },
  {
   "cell_type": "markdown",
   "metadata": {},
   "source": [
    "### Como es un problema de clasificacion verificamos nuestra variable dependiente o target, y podemos ver que tenemos un severo caso de clases desbalanceadas donde tenemos mas registros de una clase que de otra, y esto afectaria bastante a nuestro modelo, dando como resultado un modelo que solo sabe predecir que un vuelo sera cancelado."
   ]
  },
  {
   "cell_type": "code",
   "execution_count": 6,
   "metadata": {},
   "outputs": [
    {
     "data": {
      "text/plain": [
       "<matplotlib.axes._subplots.AxesSubplot at 0x1ed6cb23248>"
      ]
     },
     "execution_count": 6,
     "metadata": {},
     "output_type": "execute_result"
    },
    {
     "data": {
      "image/png": "[encoded data removed]",
      "text/plain": [
       "<Figure size 1080x360 with 1 Axes>"
      ]
     },
     "metadata": {
      "needs_background": "light"
     },
     "output_type": "display_data"
    }
   ],
   "source": [
    "import matplotlib.pyplot as plt\n",
    "import seaborn as sns\n",
    "\n",
    "plt.figure(figsize = (15, 5))\n",
    "sns.countplot(dataset['CANCELLED'])"
   ]
  },
  {
   "cell_type": "markdown",
   "metadata": {},
   "source": [
    "### Algunos de los metodos para poder lidiar con este tipo de problematicas, las cuales son muy comunes cuando se esta trabajando con problemas de clasificacion, son los siguientes:\n",
    "\n",
    " - Upsampling.\n",
    " - Downsampling.\n",
    " - Distintas metricas de evaluacion del modelo.\n",
    " \n",
    "### Upsampling: Consiste en duplicar los registros de la clase con menor ocurrencia para igualar a la de mayor ocurrencia, el problema con este metodo es que tiende a causar que el modelo se ajuste demasiado, haciendo que en vez de aprender, memorice los datos, a esto se le llama Overfitting.\n",
    "\n",
    "### Downsampling: Consiste en tomar de forma aleatoria la misma cantidad de registros que tiene la clase de menor ocurrencia, de los registros de la clase con mayor ocurrencia, el problema con este es que perdemos data lo cual puede causar que nuestro modelo aprenda menos por la poca cantidad de registros, a esto se le conoce como Underfitting.\n",
    "\n",
    "### Distintas metricas: Este metodo consiste en no evaluar nuestro modelo con solamente una metrica, por ejemplo, exactitud de las predicciones (Accuracy), si no, utilizar otras metodos como; Matriz de Confuncion, Precision, Recall y F1 Score. \n",
    "\n",
    "### Primero usare el metodo de downsampling, esto para poder realizar un EDA(Exploratory Data Analysis) con una data mas balanceada y tratar de entender un poco mas la data que tengo antes de proceder con la creacion del modelo."
   ]
  },
  {
   "cell_type": "code",
   "execution_count": 7,
   "metadata": {},
   "outputs": [
    {
     "name": "stdout",
     "output_type": "stream",
     "text": [
      "Cantidad de registros de vuelos cancelados: 22699\n",
      "Cantidad de registros de vuelos no cancelados: 810176\n"
     ]
    }
   ],
   "source": [
    "from sklearn.utils import resample\n",
    "\n",
    "#Primero hacemos la division de la data en cancelados y no cancelados\n",
    "cancelados = dataset[dataset['CANCELLED'] == 1]\n",
    "no_cancelados = dataset[dataset['CANCELLED'] == 0]\n",
    "\n",
    "print(f'Cantidad de registros de vuelos cancelados: {len(cancelados)}')\n",
    "print(f'Cantidad de registros de vuelos no cancelados: {len(no_cancelados)}')"
   ]
  },
  {
   "cell_type": "code",
   "execution_count": 8,
   "metadata": {},
   "outputs": [],
   "source": [
    "#Luego realizamos la seleccion aleatoria de la data creando un nuevo dataframe con los registros aleatorios\n",
    "#Y por ultimo lo unimos como un solo dataset con los registros que pertenecen a los cancelados\n",
    "data_downsampled = resample(no_cancelados, replace = False, n_samples = len(cancelados))\n",
    "dataset_downsampled = pd.concat([data_downsampled, cancelados])"
   ]
  },
  {
   "cell_type": "markdown",
   "metadata": {},
   "source": [
    "### Ahora nuestro nuevo dataset esta mas balanceado."
   ]
  },
  {
   "cell_type": "code",
   "execution_count": 9,
   "metadata": {},
   "outputs": [
    {
     "data": {
      "text/plain": [
       "<matplotlib.axes._subplots.AxesSubplot at 0x1ed016ae888>"
      ]
     },
     "execution_count": 9,
     "metadata": {},
     "output_type": "execute_result"
    },
    {
     "data": {
      "image/png": "[encoded data removed]",
      "text/plain": [
       "<Figure size 1080x360 with 1 Axes>"
      ]
     },
     "metadata": {
      "needs_background": "light"
     },
     "output_type": "display_data"
    }
   ],
   "source": [
    "plt.figure(figsize = (15, 5))\n",
    "sns.countplot(dataset_downsampled['CANCELLED'])"
   ]
  },
  {
   "cell_type": "markdown",
   "metadata": {},
   "source": [
    "# Analisis Exploratorio de la Data (EDA)"
   ]
  },
  {
   "cell_type": "markdown",
   "metadata": {},
   "source": [
    "## Antes de crear nuestro modelo uno de los pasos previos mas importantes es realizar un Analisis Exploratorio de la Data o EDA del ingles Exploratory Data Analysis, que consiste en realizar un analisis de la data que se tiene, con el fin de poder encontrar hallazgos que nos ayuden con la creacion del modelo para mejorar su rendimiento y tambien brindarnos informaciones que tambien puedan ayudar a tomar mejores decisiones para una mejor experiencia al usuario."
   ]
  },
  {
   "cell_type": "markdown",
   "metadata": {},
   "source": [
    "## La mejor forma para realizar este EDA es a traves de una visualizacion de la data o mejor dicho, graficando la data de forma que dichas visualizaciones nos den una mejor idea de como esta relacionada la data y tambien entenderla mejor."
   ]
  },
  {
   "cell_type": "markdown",
   "metadata": {},
   "source": [
    "### Podemos iniciar con ver que relacion existe entre los dias del mes y nuestro target."
   ]
  },
  {
   "cell_type": "markdown",
   "metadata": {},
   "source": [
    "### Se puede observar que los dias 1 y 2 son los dias de mas cancelaciones de los vuelos, mientras que esto disminuye luego de los dias 24 a excepcion de los dias 26 y 27."
   ]
  },
  {
   "cell_type": "code",
   "execution_count": 10,
   "metadata": {
    "scrolled": true
   },
   "outputs": [
    {
     "data": {
      "text/plain": [
       "<matplotlib.axes._subplots.AxesSubplot at 0x1ed01b5ab48>"
      ]
     },
     "execution_count": 10,
     "metadata": {},
     "output_type": "execute_result"
    },
    {
     "data": {
      "image/png": "[encoded data removed]",
      "text/plain": [
       "<Figure size 1080x360 with 1 Axes>"
      ]
     },
     "metadata": {
      "needs_background": "light"
     },
     "output_type": "display_data"
    }
   ],
   "source": [
    "plt.figure(figsize = (15, 5))\n",
    "sns.countplot('DAY', hue = 'CANCELLED', data = dataset_downsampled)"
   ]
  },
  {
   "cell_type": "markdown",
   "metadata": {},
   "source": [
    "### Este ultimo nos dice que febrero es el mes con la mayor cantidad de vuelos cancelados, pero cabe destacar que la data solo cuenta con dos meses, Enero y Febrero."
   ]
  },
  {
   "cell_type": "code",
   "execution_count": 11,
   "metadata": {},
   "outputs": [
    {
     "data": {
      "text/plain": [
       "<matplotlib.axes._subplots.AxesSubplot at 0x1ed07c850c8>"
      ]
     },
     "execution_count": 11,
     "metadata": {},
     "output_type": "execute_result"
    },
    {
     "data": {
      "image/png": "[encoded data removed]",
      "text/plain": [
       "<Figure size 1080x360 with 1 Axes>"
      ]
     },
     "metadata": {
      "needs_background": "light"
     },
     "output_type": "display_data"
    }
   ],
   "source": [
    "plt.figure(figsize = (15, 5))\n",
    "sns.countplot('MONTH', hue = 'CANCELLED', data = dataset_downsampled)"
   ]
  },
  {
   "cell_type": "markdown",
   "metadata": {},
   "source": [
    "### Al parecer los Lunes son los dias de mayor cancelacion de los vuelos."
   ]
  },
  {
   "cell_type": "code",
   "execution_count": 12,
   "metadata": {},
   "outputs": [
    {
     "data": {
      "text/plain": [
       "<matplotlib.axes._subplots.AxesSubplot at 0x1ed07cd5208>"
      ]
     },
     "execution_count": 12,
     "metadata": {},
     "output_type": "execute_result"
    },
    {
     "data": {
      "image/png": "[encoded data removed]",
      "text/plain": [
       "<Figure size 1080x360 with 1 Axes>"
      ]
     },
     "metadata": {
      "needs_background": "light"
     },
     "output_type": "display_data"
    }
   ],
   "source": [
    "plt.figure(figsize = (15, 5))\n",
    "sns.countplot('DAY_OF_WEEK', hue = 'CANCELLED', data = dataset_downsampled)"
   ]
  },
  {
   "cell_type": "markdown",
   "metadata": {},
   "source": [
    "### Retornando al primer grafico donde los dias 1 y 2 eran los de mayor cancelacion de vuelos queria ver si encontrabamos un porque."
   ]
  },
  {
   "cell_type": "code",
   "execution_count": 13,
   "metadata": {},
   "outputs": [],
   "source": [
    "# Primero creando un dataframe solo con registros que tenga como valor el dia 1 o 2\n",
    "dias = dataset_downsampled[(dataset_downsampled['DAY'] == 1) | (dataset_downsampled['DAY'] == 2)]"
   ]
  },
  {
   "cell_type": "markdown",
   "metadata": {},
   "source": [
    "### Primero verificando el mes, seguimos viendo que febrero es el mes de mas cancelacion de vuelos."
   ]
  },
  {
   "cell_type": "code",
   "execution_count": 14,
   "metadata": {},
   "outputs": [
    {
     "data": {
      "text/plain": [
       "<matplotlib.axes._subplots.AxesSubplot at 0x1ed07ee3a08>"
      ]
     },
     "execution_count": 14,
     "metadata": {},
     "output_type": "execute_result"
    },
    {
     "data": {
      "image/png": "[encoded data removed]",
      "text/plain": [
       "<Figure size 1080x360 with 1 Axes>"
      ]
     },
     "metadata": {
      "needs_background": "light"
     },
     "output_type": "display_data"
    }
   ],
   "source": [
    "plt.figure(figsize = (15, 5))\n",
    "sns.countplot('MONTH', hue = 'CANCELLED', data = dias)"
   ]
  },
  {
   "cell_type": "markdown",
   "metadata": {},
   "source": [
    "### Y que estos dias corresponden, en su gran mayoria, a los dias Lunes y Domingo."
   ]
  },
  {
   "cell_type": "code",
   "execution_count": 15,
   "metadata": {},
   "outputs": [
    {
     "data": {
      "text/plain": [
       "<matplotlib.axes._subplots.AxesSubplot at 0x1ed01a3aac8>"
      ]
     },
     "execution_count": 15,
     "metadata": {},
     "output_type": "execute_result"
    },
    {
     "data": {
      "image/png": "[encoded data removed]",
      "text/plain": [
       "<Figure size 1080x360 with 1 Axes>"
      ]
     },
     "metadata": {
      "needs_background": "light"
     },
     "output_type": "display_data"
    }
   ],
   "source": [
    "plt.figure(figsize = (15, 5))\n",
    "sns.countplot('DAY_OF_WEEK', hue = 'CANCELLED', data = dias)"
   ]
  },
  {
   "cell_type": "markdown",
   "metadata": {},
   "source": [
    "### Ahora viendo los dias 26 y 27 que tambien mostraban gran cantidad de cancelaciones."
   ]
  },
  {
   "cell_type": "markdown",
   "metadata": {},
   "source": [
    "### En estos dias solo corresponden al mes de Enero."
   ]
  },
  {
   "cell_type": "code",
   "execution_count": 16,
   "metadata": {},
   "outputs": [],
   "source": [
    "dias_ = dataset_downsampled[(dataset_downsampled['DAY'] == 26) | (dataset_downsampled['DAY'] == 27)]"
   ]
  },
  {
   "cell_type": "code",
   "execution_count": 17,
   "metadata": {},
   "outputs": [
    {
     "data": {
      "text/plain": [
       "<matplotlib.axes._subplots.AxesSubplot at 0x1ed018e4188>"
      ]
     },
     "execution_count": 17,
     "metadata": {},
     "output_type": "execute_result"
    },
    {
     "data": {
      "image/png": "[encoded data removed]",
      "text/plain": [
       "<Figure size 1080x360 with 1 Axes>"
      ]
     },
     "metadata": {
      "needs_background": "light"
     },
     "output_type": "display_data"
    }
   ],
   "source": [
    "plt.figure(figsize = (15, 5))\n",
    "sns.countplot('MONTH', hue = 'CANCELLED', data = dias_)"
   ]
  },
  {
   "cell_type": "markdown",
   "metadata": {},
   "source": [
    "### Para los dias de la semana, solo se tienen Lunes y Martes."
   ]
  },
  {
   "cell_type": "code",
   "execution_count": 18,
   "metadata": {},
   "outputs": [
    {
     "data": {
      "text/plain": [
       "<matplotlib.axes._subplots.AxesSubplot at 0x1ed018f0b88>"
      ]
     },
     "execution_count": 18,
     "metadata": {},
     "output_type": "execute_result"
    },
    {
     "data": {
      "image/png": "[encoded data removed]",
      "text/plain": [
       "<Figure size 1080x360 with 1 Axes>"
      ]
     },
     "metadata": {
      "needs_background": "light"
     },
     "output_type": "display_data"
    }
   ],
   "source": [
    "plt.figure(figsize = (15, 5))\n",
    "sns.countplot('DAY_OF_WEEK', hue = 'CANCELLED', data = dias_)"
   ]
  },
  {
   "cell_type": "markdown",
   "metadata": {},
   "source": [
    "### Ahora vamos a ver que relacion tienen los vuelos respecto a la distancia, pero si graficamos esa informacion vemos que tenemos demasiados valores y por esto se hace dificil realizar un analisis."
   ]
  },
  {
   "cell_type": "code",
   "execution_count": 19,
   "metadata": {},
   "outputs": [
    {
     "data": {
      "text/plain": [
       "<matplotlib.axes._subplots.AxesSubplot at 0x1ed08787f48>"
      ]
     },
     "execution_count": 19,
     "metadata": {},
     "output_type": "execute_result"
    },
    {
     "data": {
      "image/png": "[encoded data removed]",
      "text/plain": [
       "<Figure size 1080x360 with 1 Axes>"
      ]
     },
     "metadata": {
      "needs_background": "light"
     },
     "output_type": "display_data"
    }
   ],
   "source": [
    "plt.figure(figsize = (15, 5))\n",
    "sns.countplot('DISTANCE', hue = 'CANCELLED', data = dias)"
   ]
  },
  {
   "cell_type": "markdown",
   "metadata": {},
   "source": [
    "### Una solucion a esto puede ser agrupar los valores de la distancia en rangos."
   ]
  },
  {
   "cell_type": "code",
   "execution_count": 20,
   "metadata": {},
   "outputs": [],
   "source": [
    "#Primero creamos los rangos que necesitamos\n",
    "bins = np.array([range(100, 5000, 100)]).flatten()\n",
    "\n",
    "#Creamos una variable nueva que tenga como valor el indice del rango a que pertenece ese registro\n",
    "distance_bins = np.digitize(dataset_downsampled['DISTANCE'].values, bins = bins)\n",
    "\n",
    "#Insertamos esos valores como una nueva columna en nuestro dataset\n",
    "dataset_downsampled.insert(12, 'DISTANCE_BIN', distance_bins)"
   ]
  },
  {
   "cell_type": "markdown",
   "metadata": {},
   "source": [
    "### Y ahora si podemos hacer un mejor analisis de esto, el cual nos indica que los vuelos menores a 1,000 millas tienen mas probabilidad de ser cancelados."
   ]
  },
  {
   "cell_type": "code",
   "execution_count": 21,
   "metadata": {
    "scrolled": true
   },
   "outputs": [
    {
     "data": {
      "text/plain": [
       "<matplotlib.axes._subplots.AxesSubplot at 0x1ed09ee1e88>"
      ]
     },
     "execution_count": 21,
     "metadata": {},
     "output_type": "execute_result"
    },
    {
     "data": {
      "image/png": "[encoded data removed]",
      "text/plain": [
       "<Figure size 1080x360 with 1 Axes>"
      ]
     },
     "metadata": {
      "needs_background": "light"
     },
     "output_type": "display_data"
    }
   ],
   "source": [
    "plt.figure(figsize = (15, 5))\n",
    "sns.countplot('DISTANCE_BIN', hue = 'CANCELLED', data = dataset_downsampled)"
   ]
  },
  {
   "cell_type": "markdown",
   "metadata": {},
   "source": [
    "### Para hacer un analisis similar pero con el tiempo estipulado de la duracion del vuelo debemos hacer el mismo ejercicio de crear rangos ya que igual que la distancia, la cantidad de registros no permite hacer un buen analisis."
   ]
  },
  {
   "cell_type": "code",
   "execution_count": 22,
   "metadata": {},
   "outputs": [],
   "source": [
    "#Creamos nuestros rangos, decidi hacer los rangos en horas, es decir 60 minutos.\n",
    "bins = np.array([range(60, 750, 60)]).flatten()\n",
    "\n",
    "#Creamos nuestra variable con los indices\n",
    "distance_bins = np.digitize(dataset_downsampled['SCHEDULED_TIME'].values, bins = bins)\n",
    "\n",
    "#Y finalmente insertamos en nuestro dataset\n",
    "dataset_downsampled.insert(11, 'SCHEDULED_TIME_BIN', distance_bins)"
   ]
  },
  {
   "cell_type": "markdown",
   "metadata": {},
   "source": [
    "### Con el tiempo me sorprende ver que los vuelos de menor duracion son los de mas cantidad de cancelacion, especialmente los vuelos que duran mas de una 1 hora pero menos de 2."
   ]
  },
  {
   "cell_type": "code",
   "execution_count": 23,
   "metadata": {
    "scrolled": true
   },
   "outputs": [
    {
     "data": {
      "text/plain": [
       "<matplotlib.axes._subplots.AxesSubplot at 0x1ed0abb1e48>"
      ]
     },
     "execution_count": 23,
     "metadata": {},
     "output_type": "execute_result"
    },
    {
     "data": {
      "image/png": "[encoded data removed]",
      "text/plain": [
       "<Figure size 1080x360 with 1 Axes>"
      ]
     },
     "metadata": {
      "needs_background": "light"
     },
     "output_type": "display_data"
    }
   ],
   "source": [
    "plt.figure(figsize = (15, 5))\n",
    "sns.countplot('SCHEDULED_TIME_BIN', hue = 'CANCELLED', data = dataset_downsampled)"
   ]
  },
  {
   "cell_type": "markdown",
   "metadata": {},
   "source": [
    "## Creo que esto tenemos una buena base de analisis de nuestro dataset, este analisis podria ser de utilidad para tomar algunas decisiones que puedan mejorar la experiencia de los usuarios para reducir las cancelaciones de los vuelos, dentro de los hallazgos encontrados tenemos:\n",
    " - Los dias que presentan un mayor numero de vuelos cancelados son los dias 1, 2, 26 y 27.\n",
    " - Febrero es el mes de mayor cancelaciones.\n",
    " - Los dias Lunes y Domingo son los de mayor cancelacion.\n",
    " - Tambien que a mayor la distancia del vuelo menos es la probabilidad de ser sea cancelado.\n",
    " - La duracion del vuelo influye de igual forma en su cancelacion.\n",
    " \n",
    "## Pero estos atributos o features son muy pocos para llegar una conclucion mas detallada,  ya que sin contaramos con mas features como: el costo del vuelo, razon de cancelacion, tiempo de anticipacion de la cancelacion y entre otras mas que podrian ayudar a realizar un mejor analisis."
   ]
  },
  {
   "cell_type": "markdown",
   "metadata": {},
   "source": [
    "# Ingenieria de Atributos (Feature Engineering)"
   ]
  },
  {
   "cell_type": "markdown",
   "metadata": {},
   "source": [
    "## El siguiente paso es tratar de tener los mejores features o los de mayor importancia que ayuden al modelo, dentro de esto existen varias tecnicas como crear nuevos features de ya existentes y\\o seleccionar solamente los features que se consideren relevantes."
   ]
  },
  {
   "cell_type": "markdown",
   "metadata": {},
   "source": [
    "## En cierto modo para una de las anteriores visualizaciones realizamos un poco de feature engineering cuando creamos los rangos para la distancia y el tiempo de los vuelos, pero podemos crear al menos uno mas, que podria ser el tiempo del dia de los vuelos, es decir, AM o PM."
   ]
  },
  {
   "cell_type": "code",
   "execution_count": 24,
   "metadata": {},
   "outputs": [],
   "source": [
    "#Primero creamos nuestro array de los valores de las columnas correspondientes\n",
    "#Dando como condicion que si es mayor o igual a 1200, 12:00, sea PM, de los contrario AM\n",
    "departure = np.where(dataset_downsampled['SCHEDULED_DEPARTURE'] >= 1200, 'PM', 'AM')\n",
    "arrival = np.where(dataset_downsampled['SCHEDULED_DEPARTURE'] >= 1200, 'PM', 'AM')"
   ]
  },
  {
   "cell_type": "code",
   "execution_count": 25,
   "metadata": {
    "scrolled": true
   },
   "outputs": [
    {
     "data": {
      "text/html": [
       "<div>\n",
       "<style scoped>\n",
       "    .dataframe tbody tr th:only-of-type {\n",
       "        vertical-align: middle;\n",
       "    }\n",
       "\n",
       "    .dataframe tbody tr th {\n",
       "        vertical-align: top;\n",
       "    }\n",
       "\n",
       "    .dataframe thead th {\n",
       "        text-align: right;\n",
       "    }\n",
       "</style>\n",
       "<table border=\"1\" class=\"dataframe\">\n",
       "  <thead>\n",
       "    <tr style=\"text-align: right;\">\n",
       "      <th></th>\n",
       "      <th>YEAR</th>\n",
       "      <th>MONTH</th>\n",
       "      <th>DAY</th>\n",
       "      <th>DAY_OF_WEEK</th>\n",
       "      <th>AIRLINE</th>\n",
       "      <th>FLIGHT_NUMBER</th>\n",
       "      <th>TAIL_NUMBER</th>\n",
       "      <th>ORIGIN_AIRPORT</th>\n",
       "      <th>DESTINATION_AIRPORT</th>\n",
       "      <th>SCHEDULED_DEPARTURE</th>\n",
       "      <th>TIME_OF_DAY_DEPARTURE</th>\n",
       "      <th>SCHEDULED_TIME</th>\n",
       "      <th>SCHEDULED_TIME_BIN</th>\n",
       "      <th>TIME_OF_DAY_ARRIVAL</th>\n",
       "      <th>DISTANCE</th>\n",
       "      <th>DISTANCE_BIN</th>\n",
       "      <th>SCHEDULED_ARRIVAL</th>\n",
       "      <th>CANCELLED</th>\n",
       "    </tr>\n",
       "  </thead>\n",
       "  <tbody>\n",
       "    <tr>\n",
       "      <th>579482</th>\n",
       "      <td>2015</td>\n",
       "      <td>2</td>\n",
       "      <td>8</td>\n",
       "      <td>7</td>\n",
       "      <td>WN</td>\n",
       "      <td>260</td>\n",
       "      <td>N604SW</td>\n",
       "      <td>CMH</td>\n",
       "      <td>BWI</td>\n",
       "      <td>1140</td>\n",
       "      <td>AM</td>\n",
       "      <td>70.0</td>\n",
       "      <td>1</td>\n",
       "      <td>AM</td>\n",
       "      <td>337</td>\n",
       "      <td>3</td>\n",
       "      <td>1250</td>\n",
       "      <td>0</td>\n",
       "    </tr>\n",
       "    <tr>\n",
       "      <th>232743</th>\n",
       "      <td>2015</td>\n",
       "      <td>1</td>\n",
       "      <td>16</td>\n",
       "      <td>5</td>\n",
       "      <td>UA</td>\n",
       "      <td>1567</td>\n",
       "      <td>N14230</td>\n",
       "      <td>OMA</td>\n",
       "      <td>DEN</td>\n",
       "      <td>630</td>\n",
       "      <td>AM</td>\n",
       "      <td>106.0</td>\n",
       "      <td>1</td>\n",
       "      <td>AM</td>\n",
       "      <td>472</td>\n",
       "      <td>4</td>\n",
       "      <td>716</td>\n",
       "      <td>0</td>\n",
       "    </tr>\n",
       "    <tr>\n",
       "      <th>36707</th>\n",
       "      <td>2015</td>\n",
       "      <td>1</td>\n",
       "      <td>3</td>\n",
       "      <td>6</td>\n",
       "      <td>AA</td>\n",
       "      <td>1554</td>\n",
       "      <td>N3GCAA</td>\n",
       "      <td>DFW</td>\n",
       "      <td>SNA</td>\n",
       "      <td>1135</td>\n",
       "      <td>AM</td>\n",
       "      <td>195.0</td>\n",
       "      <td>3</td>\n",
       "      <td>AM</td>\n",
       "      <td>1205</td>\n",
       "      <td>12</td>\n",
       "      <td>1250</td>\n",
       "      <td>0</td>\n",
       "    </tr>\n",
       "    <tr>\n",
       "      <th>761943</th>\n",
       "      <td>2015</td>\n",
       "      <td>2</td>\n",
       "      <td>20</td>\n",
       "      <td>5</td>\n",
       "      <td>AA</td>\n",
       "      <td>2424</td>\n",
       "      <td>N5DHAA</td>\n",
       "      <td>LAX</td>\n",
       "      <td>DFW</td>\n",
       "      <td>700</td>\n",
       "      <td>AM</td>\n",
       "      <td>178.0</td>\n",
       "      <td>2</td>\n",
       "      <td>AM</td>\n",
       "      <td>1235</td>\n",
       "      <td>12</td>\n",
       "      <td>1158</td>\n",
       "      <td>0</td>\n",
       "    </tr>\n",
       "    <tr>\n",
       "      <th>420232</th>\n",
       "      <td>2015</td>\n",
       "      <td>1</td>\n",
       "      <td>28</td>\n",
       "      <td>3</td>\n",
       "      <td>UA</td>\n",
       "      <td>446</td>\n",
       "      <td>N846UA</td>\n",
       "      <td>ORD</td>\n",
       "      <td>MCI</td>\n",
       "      <td>1534</td>\n",
       "      <td>PM</td>\n",
       "      <td>96.0</td>\n",
       "      <td>1</td>\n",
       "      <td>PM</td>\n",
       "      <td>403</td>\n",
       "      <td>4</td>\n",
       "      <td>1710</td>\n",
       "      <td>0</td>\n",
       "    </tr>\n",
       "  </tbody>\n",
       "</table>\n",
       "</div>"
      ],
      "text/plain": [
       "        YEAR  MONTH  DAY  DAY_OF_WEEK AIRLINE  FLIGHT_NUMBER TAIL_NUMBER  \\\n",
       "579482  2015      2    8            7      WN            260      N604SW   \n",
       "232743  2015      1   16            5      UA           1567      N14230   \n",
       "36707   2015      1    3            6      AA           1554      N3GCAA   \n",
       "761943  2015      2   20            5      AA           2424      N5DHAA   \n",
       "420232  2015      1   28            3      UA            446      N846UA   \n",
       "\n",
       "       ORIGIN_AIRPORT DESTINATION_AIRPORT  SCHEDULED_DEPARTURE  \\\n",
       "579482            CMH                 BWI                 1140   \n",
       "232743            OMA                 DEN                  630   \n",
       "36707             DFW                 SNA                 1135   \n",
       "761943            LAX                 DFW                  700   \n",
       "420232            ORD                 MCI                 1534   \n",
       "\n",
       "       TIME_OF_DAY_DEPARTURE  SCHEDULED_TIME  SCHEDULED_TIME_BIN  \\\n",
       "579482                    AM            70.0                   1   \n",
       "232743                    AM           106.0                   1   \n",
       "36707                     AM           195.0                   3   \n",
       "761943                    AM           178.0                   2   \n",
       "420232                    PM            96.0                   1   \n",
       "\n",
       "       TIME_OF_DAY_ARRIVAL  DISTANCE  DISTANCE_BIN  SCHEDULED_ARRIVAL  \\\n",
       "579482                  AM       337             3               1250   \n",
       "232743                  AM       472             4                716   \n",
       "36707                   AM      1205            12               1250   \n",
       "761943                  AM      1235            12               1158   \n",
       "420232                  PM       403             4               1710   \n",
       "\n",
       "        CANCELLED  \n",
       "579482          0  \n",
       "232743          0  \n",
       "36707           0  \n",
       "761943          0  \n",
       "420232          0  "
      ]
     },
     "execution_count": 25,
     "metadata": {},
     "output_type": "execute_result"
    }
   ],
   "source": [
    "#Y luego agreamos esta informacion como columnas nuevas a nuestro dataset\n",
    "dataset_downsampled.insert(10, 'TIME_OF_DAY_DEPARTURE', departure)\n",
    "dataset_downsampled.insert(13, 'TIME_OF_DAY_ARRIVAL', arrival)\n",
    "dataset_downsampled.head()"
   ]
  },
  {
   "cell_type": "markdown",
   "metadata": {},
   "source": [
    "### Antes de terminar hacemos un pequeño renombramiento de las columnas para una mejor identificacion."
   ]
  },
  {
   "cell_type": "code",
   "execution_count": 26,
   "metadata": {},
   "outputs": [],
   "source": [
    "names = {'DAY_OF_WEEK': 'WEEK', 'SCHEDULED_DEPARTURE': 'DEPARTURE', 'TIME_OF_DAY_DEPARTURE': 'DEPARTURE_DAY',\n",
    "         'SCHEDULED_TIME': 'TIME', 'SCHEDULED_TIME_BIN': 'TIME_BIN', 'TIME_OF_DAY_ARRIVAL': 'ARRIVAL_DAY',\n",
    "         'SCHEDULED_ARRIVAL': 'ARRIVAL'}\n",
    "\n",
    "dataset_downsampled.rename(names, axis = 1, inplace = True)"
   ]
  },
  {
   "cell_type": "markdown",
   "metadata": {},
   "source": [
    "### Por ultimo eliminamos las columnas que consideramos innecesarias para el modelo, es decir que no aportan informacion para que nuestro modelo pueda entrenar de la mejor manera, pero en esta primera parte de entrenamiento lo haremos con todas las variables disponibles y luego determinar cuales son de menos importancia."
   ]
  },
  {
   "cell_type": "code",
   "execution_count": 36,
   "metadata": {},
   "outputs": [
    {
     "data": {
      "text/html": [
       "<div>\n",
       "<style scoped>\n",
       "    .dataframe tbody tr th:only-of-type {\n",
       "        vertical-align: middle;\n",
       "    }\n",
       "\n",
       "    .dataframe tbody tr th {\n",
       "        vertical-align: top;\n",
       "    }\n",
       "\n",
       "    .dataframe thead th {\n",
       "        text-align: right;\n",
       "    }\n",
       "</style>\n",
       "<table border=\"1\" class=\"dataframe\">\n",
       "  <thead>\n",
       "    <tr style=\"text-align: right;\">\n",
       "      <th></th>\n",
       "      <th>YEAR</th>\n",
       "      <th>MONTH</th>\n",
       "      <th>DAY</th>\n",
       "      <th>WEEK</th>\n",
       "      <th>FLIGHT_NUMBER</th>\n",
       "      <th>DEPARTURE</th>\n",
       "      <th>DEPARTURE_DAY</th>\n",
       "      <th>TIME</th>\n",
       "      <th>TIME_BIN</th>\n",
       "      <th>ARRIVAL_DAY</th>\n",
       "      <th>DISTANCE</th>\n",
       "      <th>DISTANCE_BIN</th>\n",
       "      <th>ARRIVAL</th>\n",
       "      <th>CANCELLED</th>\n",
       "    </tr>\n",
       "  </thead>\n",
       "  <tbody>\n",
       "    <tr>\n",
       "      <th>579482</th>\n",
       "      <td>2015</td>\n",
       "      <td>2</td>\n",
       "      <td>8</td>\n",
       "      <td>7</td>\n",
       "      <td>260</td>\n",
       "      <td>1140</td>\n",
       "      <td>AM</td>\n",
       "      <td>70.0</td>\n",
       "      <td>1</td>\n",
       "      <td>AM</td>\n",
       "      <td>337</td>\n",
       "      <td>3</td>\n",
       "      <td>1250</td>\n",
       "      <td>0</td>\n",
       "    </tr>\n",
       "    <tr>\n",
       "      <th>232743</th>\n",
       "      <td>2015</td>\n",
       "      <td>1</td>\n",
       "      <td>16</td>\n",
       "      <td>5</td>\n",
       "      <td>1567</td>\n",
       "      <td>630</td>\n",
       "      <td>AM</td>\n",
       "      <td>106.0</td>\n",
       "      <td>1</td>\n",
       "      <td>AM</td>\n",
       "      <td>472</td>\n",
       "      <td>4</td>\n",
       "      <td>716</td>\n",
       "      <td>0</td>\n",
       "    </tr>\n",
       "    <tr>\n",
       "      <th>36707</th>\n",
       "      <td>2015</td>\n",
       "      <td>1</td>\n",
       "      <td>3</td>\n",
       "      <td>6</td>\n",
       "      <td>1554</td>\n",
       "      <td>1135</td>\n",
       "      <td>AM</td>\n",
       "      <td>195.0</td>\n",
       "      <td>3</td>\n",
       "      <td>AM</td>\n",
       "      <td>1205</td>\n",
       "      <td>12</td>\n",
       "      <td>1250</td>\n",
       "      <td>0</td>\n",
       "    </tr>\n",
       "    <tr>\n",
       "      <th>761943</th>\n",
       "      <td>2015</td>\n",
       "      <td>2</td>\n",
       "      <td>20</td>\n",
       "      <td>5</td>\n",
       "      <td>2424</td>\n",
       "      <td>700</td>\n",
       "      <td>AM</td>\n",
       "      <td>178.0</td>\n",
       "      <td>2</td>\n",
       "      <td>AM</td>\n",
       "      <td>1235</td>\n",
       "      <td>12</td>\n",
       "      <td>1158</td>\n",
       "      <td>0</td>\n",
       "    </tr>\n",
       "    <tr>\n",
       "      <th>420232</th>\n",
       "      <td>2015</td>\n",
       "      <td>1</td>\n",
       "      <td>28</td>\n",
       "      <td>3</td>\n",
       "      <td>446</td>\n",
       "      <td>1534</td>\n",
       "      <td>PM</td>\n",
       "      <td>96.0</td>\n",
       "      <td>1</td>\n",
       "      <td>PM</td>\n",
       "      <td>403</td>\n",
       "      <td>4</td>\n",
       "      <td>1710</td>\n",
       "      <td>0</td>\n",
       "    </tr>\n",
       "  </tbody>\n",
       "</table>\n",
       "</div>"
      ],
      "text/plain": [
       "        YEAR  MONTH  DAY  WEEK  FLIGHT_NUMBER  DEPARTURE DEPARTURE_DAY   TIME  \\\n",
       "579482  2015      2    8     7            260       1140            AM   70.0   \n",
       "232743  2015      1   16     5           1567        630            AM  106.0   \n",
       "36707   2015      1    3     6           1554       1135            AM  195.0   \n",
       "761943  2015      2   20     5           2424        700            AM  178.0   \n",
       "420232  2015      1   28     3            446       1534            PM   96.0   \n",
       "\n",
       "        TIME_BIN ARRIVAL_DAY  DISTANCE  DISTANCE_BIN  ARRIVAL  CANCELLED  \n",
       "579482         1          AM       337             3     1250          0  \n",
       "232743         1          AM       472             4      716          0  \n",
       "36707          3          AM      1205            12     1250          0  \n",
       "761943         2          AM      1235            12     1158          0  \n",
       "420232         1          PM       403             4     1710          0  "
      ]
     },
     "execution_count": 36,
     "metadata": {},
     "output_type": "execute_result"
    }
   ],
   "source": [
    "dataset_train = dataset_downsampled.drop(['AIRLINE', 'TAIL_NUMBER', 'ORIGIN_AIRPORT', 'DESTINATION_AIRPORT'],\n",
    "                                         axis = 1)\n",
    "dataset_train.head()"
   ]
  },
  {
   "cell_type": "markdown",
   "metadata": {},
   "source": [
    "# Preprocesamiento de la Data (Data Preprocessing)"
   ]
  },
  {
   "cell_type": "markdown",
   "metadata": {},
   "source": [
    "## El siguiente paso es convertir nuestros atributos a valores que nuestro modelo pueda entender y que permita un entrenamiento mas rapido y eficiente, es decir, procesar la data."
   ]
  },
  {
   "cell_type": "markdown",
   "metadata": {},
   "source": [
    "### Podemos iniciar con convertir nuestros atributos categoricos, aunque solo tenemos uno, a valores numericos. De nuestros atributos el unico que es categorico es el TIME_OF_DAY ya que sus valores son \"AM\" o \"PM\". Esto lo podemos hacer de forma muy sencilla con pandas y el metodo get_dummies()."
   ]
  },
  {
   "cell_type": "code",
   "execution_count": 37,
   "metadata": {},
   "outputs": [
    {
     "data": {
      "text/html": [
       "<div>\n",
       "<style scoped>\n",
       "    .dataframe tbody tr th:only-of-type {\n",
       "        vertical-align: middle;\n",
       "    }\n",
       "\n",
       "    .dataframe tbody tr th {\n",
       "        vertical-align: top;\n",
       "    }\n",
       "\n",
       "    .dataframe thead th {\n",
       "        text-align: right;\n",
       "    }\n",
       "</style>\n",
       "<table border=\"1\" class=\"dataframe\">\n",
       "  <thead>\n",
       "    <tr style=\"text-align: right;\">\n",
       "      <th></th>\n",
       "      <th>YEAR</th>\n",
       "      <th>MONTH</th>\n",
       "      <th>DAY</th>\n",
       "      <th>WEEK</th>\n",
       "      <th>FLIGHT_NUMBER</th>\n",
       "      <th>DEPARTURE</th>\n",
       "      <th>TIME</th>\n",
       "      <th>TIME_BIN</th>\n",
       "      <th>DISTANCE</th>\n",
       "      <th>DISTANCE_BIN</th>\n",
       "      <th>ARRIVAL</th>\n",
       "      <th>CANCELLED</th>\n",
       "      <th>DEPARTURE_DAY_PM</th>\n",
       "      <th>ARRIVAL_DAY_PM</th>\n",
       "    </tr>\n",
       "  </thead>\n",
       "  <tbody>\n",
       "    <tr>\n",
       "      <th>579482</th>\n",
       "      <td>2015</td>\n",
       "      <td>2</td>\n",
       "      <td>8</td>\n",
       "      <td>7</td>\n",
       "      <td>260</td>\n",
       "      <td>1140</td>\n",
       "      <td>70.0</td>\n",
       "      <td>1</td>\n",
       "      <td>337</td>\n",
       "      <td>3</td>\n",
       "      <td>1250</td>\n",
       "      <td>0</td>\n",
       "      <td>0</td>\n",
       "      <td>0</td>\n",
       "    </tr>\n",
       "    <tr>\n",
       "      <th>232743</th>\n",
       "      <td>2015</td>\n",
       "      <td>1</td>\n",
       "      <td>16</td>\n",
       "      <td>5</td>\n",
       "      <td>1567</td>\n",
       "      <td>630</td>\n",
       "      <td>106.0</td>\n",
       "      <td>1</td>\n",
       "      <td>472</td>\n",
       "      <td>4</td>\n",
       "      <td>716</td>\n",
       "      <td>0</td>\n",
       "      <td>0</td>\n",
       "      <td>0</td>\n",
       "    </tr>\n",
       "    <tr>\n",
       "      <th>36707</th>\n",
       "      <td>2015</td>\n",
       "      <td>1</td>\n",
       "      <td>3</td>\n",
       "      <td>6</td>\n",
       "      <td>1554</td>\n",
       "      <td>1135</td>\n",
       "      <td>195.0</td>\n",
       "      <td>3</td>\n",
       "      <td>1205</td>\n",
       "      <td>12</td>\n",
       "      <td>1250</td>\n",
       "      <td>0</td>\n",
       "      <td>0</td>\n",
       "      <td>0</td>\n",
       "    </tr>\n",
       "    <tr>\n",
       "      <th>761943</th>\n",
       "      <td>2015</td>\n",
       "      <td>2</td>\n",
       "      <td>20</td>\n",
       "      <td>5</td>\n",
       "      <td>2424</td>\n",
       "      <td>700</td>\n",
       "      <td>178.0</td>\n",
       "      <td>2</td>\n",
       "      <td>1235</td>\n",
       "      <td>12</td>\n",
       "      <td>1158</td>\n",
       "      <td>0</td>\n",
       "      <td>0</td>\n",
       "      <td>0</td>\n",
       "    </tr>\n",
       "    <tr>\n",
       "      <th>420232</th>\n",
       "      <td>2015</td>\n",
       "      <td>1</td>\n",
       "      <td>28</td>\n",
       "      <td>3</td>\n",
       "      <td>446</td>\n",
       "      <td>1534</td>\n",
       "      <td>96.0</td>\n",
       "      <td>1</td>\n",
       "      <td>403</td>\n",
       "      <td>4</td>\n",
       "      <td>1710</td>\n",
       "      <td>0</td>\n",
       "      <td>1</td>\n",
       "      <td>1</td>\n",
       "    </tr>\n",
       "  </tbody>\n",
       "</table>\n",
       "</div>"
      ],
      "text/plain": [
       "        YEAR  MONTH  DAY  WEEK  FLIGHT_NUMBER  DEPARTURE   TIME  TIME_BIN  \\\n",
       "579482  2015      2    8     7            260       1140   70.0         1   \n",
       "232743  2015      1   16     5           1567        630  106.0         1   \n",
       "36707   2015      1    3     6           1554       1135  195.0         3   \n",
       "761943  2015      2   20     5           2424        700  178.0         2   \n",
       "420232  2015      1   28     3            446       1534   96.0         1   \n",
       "\n",
       "        DISTANCE  DISTANCE_BIN  ARRIVAL  CANCELLED  DEPARTURE_DAY_PM  \\\n",
       "579482       337             3     1250          0                 0   \n",
       "232743       472             4      716          0                 0   \n",
       "36707       1205            12     1250          0                 0   \n",
       "761943      1235            12     1158          0                 0   \n",
       "420232       403             4     1710          0                 1   \n",
       "\n",
       "        ARRIVAL_DAY_PM  \n",
       "579482               0  \n",
       "232743               0  \n",
       "36707                0  \n",
       "761943               0  \n",
       "420232               1  "
      ]
     },
     "execution_count": 37,
     "metadata": {},
     "output_type": "execute_result"
    }
   ],
   "source": [
    "dataset_train = pd.get_dummies(dataset_train, columns = ['DEPARTURE_DAY', 'ARRIVAL_DAY'], drop_first = True)\n",
    "dataset_train.head()"
   ]
  },
  {
   "cell_type": "markdown",
   "metadata": {},
   "source": [
    "### Por ultimo tenemos el paso de escalar de los valores (feature scaling) donde todos nuestros valores numeros lo convertimos a una misma escala, con la finalidad de que esto eficientice el entrenamiento. Aunque cabe destacar que hay algoritmos que no es necesario realizar esta escala, como son los algoritmos a base de arboles de decisiones, pero aun asi esto puede ayudar con el tiempo de entrenamiento del modelo."
   ]
  },
  {
   "cell_type": "markdown",
   "metadata": {},
   "source": [
    "### Pero antes de esto primero realizaremos un paso muy importante que es la division de la data en, data de entrenamiento y data de prueba."
   ]
  },
  {
   "cell_type": "code",
   "execution_count": 38,
   "metadata": {},
   "outputs": [],
   "source": [
    "from sklearn.model_selection import train_test_split\n",
    "\n",
    "X = dataset_train.drop(['CANCELLED'], axis = 1)\n",
    "y = dataset_train['CANCELLED']\n",
    "\n",
    "X_train, X_test, y_train, y_test = train_test_split(X, y, test_size = 0.2, stratify = y)"
   ]
  },
  {
   "cell_type": "code",
   "execution_count": 39,
   "metadata": {},
   "outputs": [],
   "source": [
    "from sklearn.preprocessing import StandardScaler\n",
    "\n",
    "scaler = StandardScaler()\n",
    "scaler.fit(X_train)\n",
    "X_train = scaler.transform(X_train)\n",
    "X_test = scaler.transform(X_test)"
   ]
  },
  {
   "cell_type": "markdown",
   "metadata": {},
   "source": [
    "# Entrenamiento de modelo."
   ]
  },
  {
   "cell_type": "markdown",
   "metadata": {},
   "source": [
    "## Ya estamos listos para inicar con la creacion y entrenamiento de nuestro modelo, decidi iniciar rapidamente con un Random Forest (Bosque Aleatorio) ya que es uno de los algoritmos mas eficientes actualmente, aunque en Machine Learning se tiene el decir, No Free Lunch, que quiere decir que un solo algoritmo es el mejor para una tarea especifica, por lo que es bueno siempre realizar pruebas con distintos algoritmos."
   ]
  },
  {
   "cell_type": "markdown",
   "metadata": {},
   "source": [
    "### Como el Random Forest cuentra con muchos parametros que se pueden cambiar para tener los valores mas optimos primero realizaremos una busque de dichos valores optimos para algunos de los parametros de nuestro modelo, y esto lo logramos con RandomSearchCV."
   ]
  },
  {
   "cell_type": "code",
   "execution_count": 42,
   "metadata": {},
   "outputs": [],
   "source": [
    "from sklearn.model_selection import cross_val_score, RandomizedSearchCV\n",
    "from sklearn.ensemble import RandomForestClassifier\n",
    "\n",
    "#Creamos nuestra instancia de la clase RandomForest y creamos un diccionario de parametros\n",
    "forest = RandomForestClassifier(n_jobs = -1)\n",
    "parametros = {'n_estimators':[10, 50, 100, 150, 200, 250],\n",
    "              'criterion':['gini', 'entropy'],\n",
    "              'max_depth':[1, 2, 3, 4, 5, 6, 7, 8 ,9, 10, 11, 12, 13, 14, 15],\n",
    "              'min_samples_leaf':[1, 2, 3, 4, 5, 6, 7, 8, 9, 10],\n",
    "              'min_samples_split':[2, 3, 4, 5 ,6, 7, 8, 9, 10]}\n"
   ]
  },
  {
   "cell_type": "code",
   "execution_count": 44,
   "metadata": {},
   "outputs": [
    {
     "name": "stdout",
     "output_type": "stream",
     "text": [
      "Fitting 20 folds for each of 1000 candidates, totalling 20000 fits\n"
     ]
    },
    {
     "name": "stderr",
     "output_type": "stream",
     "text": [
      "[Parallel(n_jobs=-1)]: Using backend LokyBackend with 8 concurrent workers.\n",
      "[Parallel(n_jobs=-1)]: Done  16 tasks      | elapsed:    8.6s\n",
      "[Parallel(n_jobs=-1)]: Done 112 tasks      | elapsed:  1.0min\n",
      "[Parallel(n_jobs=-1)]: Done 272 tasks      | elapsed:  3.4min\n",
      "[Parallel(n_jobs=-1)]: Done 496 tasks      | elapsed:  7.4min\n",
      "[Parallel(n_jobs=-1)]: Done 784 tasks      | elapsed: 10.7min\n",
      "[Parallel(n_jobs=-1)]: Done 1136 tasks      | elapsed: 16.5min\n",
      "[Parallel(n_jobs=-1)]: Done 1552 tasks      | elapsed: 22.8min\n",
      "[Parallel(n_jobs=-1)]: Done 2032 tasks      | elapsed: 30.3min\n",
      "[Parallel(n_jobs=-1)]: Done 2576 tasks      | elapsed: 37.0min\n",
      "[Parallel(n_jobs=-1)]: Done 3184 tasks      | elapsed: 46.6min\n",
      "[Parallel(n_jobs=-1)]: Done 3856 tasks      | elapsed: 56.9min\n",
      "[Parallel(n_jobs=-1)]: Done 4592 tasks      | elapsed: 65.4min\n",
      "[Parallel(n_jobs=-1)]: Done 5392 tasks      | elapsed: 74.8min\n",
      "[Parallel(n_jobs=-1)]: Done 6256 tasks      | elapsed: 86.6min\n",
      "[Parallel(n_jobs=-1)]: Done 7184 tasks      | elapsed: 100.6min\n",
      "[Parallel(n_jobs=-1)]: Done 8176 tasks      | elapsed: 112.4min\n",
      "[Parallel(n_jobs=-1)]: Done 9232 tasks      | elapsed: 127.8min\n",
      "[Parallel(n_jobs=-1)]: Done 10352 tasks      | elapsed: 145.3min\n",
      "[Parallel(n_jobs=-1)]: Done 11536 tasks      | elapsed: 162.5min\n",
      "[Parallel(n_jobs=-1)]: Done 12784 tasks      | elapsed: 177.3min\n",
      "[Parallel(n_jobs=-1)]: Done 14096 tasks      | elapsed: 193.5min\n",
      "[Parallel(n_jobs=-1)]: Done 15472 tasks      | elapsed: 209.8min\n",
      "[Parallel(n_jobs=-1)]: Done 16912 tasks      | elapsed: 227.3min\n",
      "[Parallel(n_jobs=-1)]: Done 18416 tasks      | elapsed: 246.2min\n",
      "[Parallel(n_jobs=-1)]: Done 19984 tasks      | elapsed: 264.4min\n",
      "[Parallel(n_jobs=-1)]: Done 20000 out of 20000 | elapsed: 264.7min finished\n"
     ]
    },
    {
     "data": {
      "text/plain": [
       "RandomizedSearchCV(cv=20, estimator=RandomForestClassifier(n_jobs=-1),\n",
       "                   n_iter=1000, n_jobs=-1,\n",
       "                   param_distributions={'criterion': ['gini', 'entropy'],\n",
       "                                        'max_depth': [1, 2, 3, 4, 5, 6, 7, 8, 9,\n",
       "                                                      10, 11, 12, 13, 14, 15],\n",
       "                                        'min_samples_leaf': [1, 2, 3, 4, 5, 6,\n",
       "                                                             7, 8, 9, 10],\n",
       "                                        'min_samples_split': [2, 3, 4, 5, 6, 7,\n",
       "                                                              8, 9, 10],\n",
       "                                        'n_estimators': [10, 50, 100, 150, 200,\n",
       "                                                         250]},\n",
       "                   verbose=3)"
      ]
     },
     "execution_count": 44,
     "metadata": {},
     "output_type": "execute_result"
    }
   ],
   "source": [
    "#Y por ultimo hacemos otra instancia a la clase de nuestro buscador de parametros e iniciamos la busqueda\n",
    "grid_search = RandomizedSearchCV(forest, parametros, cv = 20, n_iter = 1000, n_jobs = -1, verbose = 3)\n",
    "grid_search.fit(X_train, y_train)"
   ]
  },
  {
   "cell_type": "code",
   "execution_count": 45,
   "metadata": {},
   "outputs": [
    {
     "data": {
      "text/plain": [
       "{'n_estimators': 150,\n",
       " 'min_samples_split': 7,\n",
       " 'min_samples_leaf': 1,\n",
       " 'max_depth': 15,\n",
       " 'criterion': 'entropy'}"
      ]
     },
     "execution_count": 45,
     "metadata": {},
     "output_type": "execute_result"
    }
   ],
   "source": [
    "#Mejor combinacion de parametros\n",
    "grid_search.best_params_"
   ]
  },
  {
   "cell_type": "code",
   "execution_count": 46,
   "metadata": {},
   "outputs": [
    {
     "data": {
      "text/plain": [
       "0.7888645313770464"
      ]
     },
     "execution_count": 46,
     "metadata": {},
     "output_type": "execute_result"
    }
   ],
   "source": [
    "#Mejor score con la combinacion de parametros\n",
    "grid_search.best_score_"
   ]
  },
  {
   "cell_type": "markdown",
   "metadata": {},
   "source": [
    "### Ahora que tenemos la mejor combinacion posible de parametros y logrando con ella una precision de 78%, procedemos a crear nuestro modelo y entrenarlo con dichos parametros para verificar que la metrica se mantenga igual"
   ]
  },
  {
   "cell_type": "code",
   "execution_count": 48,
   "metadata": {},
   "outputs": [
    {
     "name": "stderr",
     "output_type": "stream",
     "text": [
      "[Parallel(n_jobs=-1)]: Using backend LokyBackend with 8 concurrent workers.\n",
      "[Parallel(n_jobs=-1)]: Done  12 out of  20 | elapsed:   25.1s remaining:   16.7s\n",
      "[Parallel(n_jobs=-1)]: Done  20 out of  20 | elapsed:   34.0s finished\n"
     ]
    }
   ],
   "source": [
    "forest = RandomForestClassifier(n_estimators = 150, min_samples_split = 7, min_samples_leaf = 1, max_depth = 15,\n",
    "                                criterion = 'entropy')\n",
    "\n",
    "#Utilizamos el metodo cross validation para tener un promedio de 20 diferentes modelos en sets diferentes.\n",
    "scores = cross_val_score(forest, X_train, y_train, cv = 20, n_jobs = -1, verbose = 3)"
   ]
  },
  {
   "cell_type": "code",
   "execution_count": 49,
   "metadata": {},
   "outputs": [
    {
     "name": "stdout",
     "output_type": "stream",
     "text": [
      "0.7868820918435455\n"
     ]
    }
   ],
   "source": [
    "#Y presentamos el promedio de la metrica de los entrenamientos.\n",
    "print(np.mean(scores))"
   ]
  },
  {
   "cell_type": "markdown",
   "metadata": {},
   "source": [
    "### Confirmamos que la metrica se mantiene igual asi que procedemos a crear nuestro modelo con los parametros encontrados."
   ]
  },
  {
   "cell_type": "code",
   "execution_count": 50,
   "metadata": {},
   "outputs": [
    {
     "data": {
      "text/plain": [
       "RandomForestClassifier(criterion='entropy', max_depth=15, min_samples_split=7,\n",
       "                       n_estimators=150)"
      ]
     },
     "execution_count": 50,
     "metadata": {},
     "output_type": "execute_result"
    }
   ],
   "source": [
    "forest.fit(X_train, y_train)"
   ]
  },
  {
   "cell_type": "markdown",
   "metadata": {},
   "source": [
    "### Ahora que tenemos un modelo entrenado veamos que tal es haciendo predicciones en data nunca vista."
   ]
  },
  {
   "cell_type": "code",
   "execution_count": 60,
   "metadata": {},
   "outputs": [
    {
     "name": "stdout",
     "output_type": "stream",
     "text": [
      "Matriz de confucion\n",
      " [[3506 1034]\n",
      " [ 885 3655]]\n",
      "\n",
      "Reporte de clasificacion\n",
      "               precision    recall  f1-score   support\n",
      "\n",
      "           0       0.80      0.77      0.79      4540\n",
      "           1       0.78      0.81      0.79      4540\n",
      "\n",
      "    accuracy                           0.79      9080\n",
      "   macro avg       0.79      0.79      0.79      9080\n",
      "weighted avg       0.79      0.79      0.79      9080\n",
      "\n"
     ]
    }
   ],
   "source": [
    "y_pred = forest.predict(X_test)\n",
    "\n",
    "from sklearn.metrics import confusion_matrix, classification_report\n",
    "\n",
    "print('Matriz de confucion\\n', confusion_matrix(y_test, y_pred))\n",
    "print('\\nReporte de clasificacion\\n',classification_report(y_test, y_pred))"
   ]
  },
  {
   "cell_type": "markdown",
   "metadata": {},
   "source": [
    "### Efectivamente nuestro modelo tiene una precision de un 79%, en la matriz de confucion vemos que de 9,080 casos, 7, 161 fueron clasificados correctamente y en nuestro reporte tenemos un F1 Score de un 79%, es decir que tenemos un buen balance entre Precision y Recall."
   ]
  },
  {
   "cell_type": "markdown",
   "metadata": {},
   "source": [
    "### Pero en esta primera parte utilizamos todas las variables disponibles, vamos ahora a validar si realmente todas las variables son necesarias para nuestro modelo y tambien ver cuales variables son las de mas impacto para la prediccion, esto lo logramos gracias a uno de los atributos de nuestro modelo."
   ]
  },
  {
   "cell_type": "code",
   "execution_count": 61,
   "metadata": {},
   "outputs": [],
   "source": [
    "#Primero tomamos las variables de importancia y creamos un Series con ellas para presentarlas.\n",
    "feature_importance = pd.Series(forest.feature_importances_, index = dataset_train.drop(['CANCELLED'], axis = 1).columns)\n",
    "feature_importance = feature_importance.sort_values()"
   ]
  },
  {
   "cell_type": "code",
   "execution_count": 63,
   "metadata": {},
   "outputs": [
    {
     "data": {
      "text/plain": [
       "<matplotlib.axes._subplots.AxesSubplot at 0x1ed0c048ac8>"
      ]
     },
     "execution_count": 63,
     "metadata": {},
     "output_type": "execute_result"
    },
    {
     "data": {
      "image/png": "[encoded data removed]",
      "text/plain": [
       "<Figure size 1224x360 with 1 Axes>"
      ]
     },
     "metadata": {
      "needs_background": "light"
     },
     "output_type": "display_data"
    }
   ],
   "source": [
    "plt.figure(figsize = (17, 5))\n",
    "sns.barplot(feature_importance.index, feature_importance.values)"
   ]
  },
  {
   "cell_type": "markdown",
   "metadata": {},
   "source": [
    "### Para nuestro modelo la variable de mayor importancia es el dia, y con esto podemos decir que realizamos un buen analisis aunque fuese sencillo donde igual vimos que los dias tenian cierto nivel de relacion con nuestro target, pero tambien tenemos que el numero de vuelo es igual de importante (quizas con mas informacion se pudiese determinar porque seria esto). Con esta informacion intentemos realizar una segunda busqueda de parametros y entrenamiento del modelo con solo las variables de importancia para el modelo."
   ]
  },
  {
   "cell_type": "code",
   "execution_count": 64,
   "metadata": {},
   "outputs": [
    {
     "data": {
      "text/html": [
       "<div>\n",
       "<style scoped>\n",
       "    .dataframe tbody tr th:only-of-type {\n",
       "        vertical-align: middle;\n",
       "    }\n",
       "\n",
       "    .dataframe tbody tr th {\n",
       "        vertical-align: top;\n",
       "    }\n",
       "\n",
       "    .dataframe thead th {\n",
       "        text-align: right;\n",
       "    }\n",
       "</style>\n",
       "<table border=\"1\" class=\"dataframe\">\n",
       "  <thead>\n",
       "    <tr style=\"text-align: right;\">\n",
       "      <th></th>\n",
       "      <th>MONTH</th>\n",
       "      <th>DAY</th>\n",
       "      <th>WEEK</th>\n",
       "      <th>FLIGHT_NUMBER</th>\n",
       "      <th>DEPARTURE</th>\n",
       "      <th>TIME</th>\n",
       "      <th>TIME_BIN</th>\n",
       "      <th>DISTANCE</th>\n",
       "      <th>DISTANCE_BIN</th>\n",
       "      <th>ARRIVAL</th>\n",
       "      <th>CANCELLED</th>\n",
       "    </tr>\n",
       "  </thead>\n",
       "  <tbody>\n",
       "    <tr>\n",
       "      <th>579482</th>\n",
       "      <td>2</td>\n",
       "      <td>8</td>\n",
       "      <td>7</td>\n",
       "      <td>260</td>\n",
       "      <td>1140</td>\n",
       "      <td>70.0</td>\n",
       "      <td>1</td>\n",
       "      <td>337</td>\n",
       "      <td>3</td>\n",
       "      <td>1250</td>\n",
       "      <td>0</td>\n",
       "    </tr>\n",
       "    <tr>\n",
       "      <th>232743</th>\n",
       "      <td>1</td>\n",
       "      <td>16</td>\n",
       "      <td>5</td>\n",
       "      <td>1567</td>\n",
       "      <td>630</td>\n",
       "      <td>106.0</td>\n",
       "      <td>1</td>\n",
       "      <td>472</td>\n",
       "      <td>4</td>\n",
       "      <td>716</td>\n",
       "      <td>0</td>\n",
       "    </tr>\n",
       "    <tr>\n",
       "      <th>36707</th>\n",
       "      <td>1</td>\n",
       "      <td>3</td>\n",
       "      <td>6</td>\n",
       "      <td>1554</td>\n",
       "      <td>1135</td>\n",
       "      <td>195.0</td>\n",
       "      <td>3</td>\n",
       "      <td>1205</td>\n",
       "      <td>12</td>\n",
       "      <td>1250</td>\n",
       "      <td>0</td>\n",
       "    </tr>\n",
       "    <tr>\n",
       "      <th>761943</th>\n",
       "      <td>2</td>\n",
       "      <td>20</td>\n",
       "      <td>5</td>\n",
       "      <td>2424</td>\n",
       "      <td>700</td>\n",
       "      <td>178.0</td>\n",
       "      <td>2</td>\n",
       "      <td>1235</td>\n",
       "      <td>12</td>\n",
       "      <td>1158</td>\n",
       "      <td>0</td>\n",
       "    </tr>\n",
       "    <tr>\n",
       "      <th>420232</th>\n",
       "      <td>1</td>\n",
       "      <td>28</td>\n",
       "      <td>3</td>\n",
       "      <td>446</td>\n",
       "      <td>1534</td>\n",
       "      <td>96.0</td>\n",
       "      <td>1</td>\n",
       "      <td>403</td>\n",
       "      <td>4</td>\n",
       "      <td>1710</td>\n",
       "      <td>0</td>\n",
       "    </tr>\n",
       "  </tbody>\n",
       "</table>\n",
       "</div>"
      ],
      "text/plain": [
       "        MONTH  DAY  WEEK  FLIGHT_NUMBER  DEPARTURE   TIME  TIME_BIN  DISTANCE  \\\n",
       "579482      2    8     7            260       1140   70.0         1       337   \n",
       "232743      1   16     5           1567        630  106.0         1       472   \n",
       "36707       1    3     6           1554       1135  195.0         3      1205   \n",
       "761943      2   20     5           2424        700  178.0         2      1235   \n",
       "420232      1   28     3            446       1534   96.0         1       403   \n",
       "\n",
       "        DISTANCE_BIN  ARRIVAL  CANCELLED  \n",
       "579482             3     1250          0  \n",
       "232743             4      716          0  \n",
       "36707             12     1250          0  \n",
       "761943            12     1158          0  \n",
       "420232             4     1710          0  "
      ]
     },
     "execution_count": 64,
     "metadata": {},
     "output_type": "execute_result"
    }
   ],
   "source": [
    "dataset_train = dataset_downsampled.drop(['YEAR', 'AIRLINE', 'TAIL_NUMBER', 'ORIGIN_AIRPORT', 'DESTINATION_AIRPORT',\n",
    "                                          'DEPARTURE_DAY', 'ARRIVAL_DAY'],\n",
    "                                         axis = 1)\n",
    "\n",
    "dataset_train.head()"
   ]
  },
  {
   "cell_type": "code",
   "execution_count": 65,
   "metadata": {},
   "outputs": [],
   "source": [
    "#Realizamos otra division de la data para asegurar que tenemos los datos nuevos en el formato correcto\n",
    "X = dataset_train.drop(['CANCELLED'], axis = 1)\n",
    "y = dataset_train['CANCELLED']\n",
    "\n",
    "X_train, X_test, y_train, y_test = train_test_split(X, y, test_size = 0.2, stratify = y)"
   ]
  },
  {
   "cell_type": "code",
   "execution_count": 66,
   "metadata": {},
   "outputs": [],
   "source": [
    "#Escalamos la data nueva vez\n",
    "scaler = StandardScaler()\n",
    "scaler.fit(X_train)\n",
    "X_train = scaler.transform(X_train)\n",
    "X_test = scaler.transform(X_test)"
   ]
  },
  {
   "cell_type": "code",
   "execution_count": 67,
   "metadata": {},
   "outputs": [],
   "source": [
    "#Nuestra instancia del modelo y los paramtros a buscar\n",
    "forest = RandomForestClassifier(n_jobs = -1)\n",
    "parametros = {'n_estimators':[10, 50, 100, 150, 200],\n",
    "              'criterion':['gini', 'entropy'],\n",
    "              'max_depth':[1, 2, 3, 4, 5, 6, 7, 8 ,9, 10, 11, 12, 13, 14, 15],\n",
    "              'min_samples_leaf':[1, 2, 3, 4, 5, 6, 7, 8, 9, 10],\n",
    "              'min_samples_split':[2, 3, 4, 5 ,6, 7, 8, 9, 10]}"
   ]
  },
  {
   "cell_type": "code",
   "execution_count": 68,
   "metadata": {},
   "outputs": [
    {
     "name": "stdout",
     "output_type": "stream",
     "text": [
      "Fitting 10 folds for each of 2000 candidates, totalling 20000 fits\n"
     ]
    },
    {
     "name": "stderr",
     "output_type": "stream",
     "text": [
      "[Parallel(n_jobs=-1)]: Using backend LokyBackend with 8 concurrent workers.\n",
      "[Parallel(n_jobs=-1)]: Done  34 tasks      | elapsed:   34.3s\n",
      "[Parallel(n_jobs=-1)]: Done 184 tasks      | elapsed:  1.9min\n",
      "[Parallel(n_jobs=-1)]: Done 434 tasks      | elapsed:  4.7min\n",
      "[Parallel(n_jobs=-1)]: Done 784 tasks      | elapsed:  9.0min\n",
      "[Parallel(n_jobs=-1)]: Done 1234 tasks      | elapsed: 14.5min\n",
      "[Parallel(n_jobs=-1)]: Done 1784 tasks      | elapsed: 20.0min\n",
      "[Parallel(n_jobs=-1)]: Done 2434 tasks      | elapsed: 26.0min\n",
      "[Parallel(n_jobs=-1)]: Done 3184 tasks      | elapsed: 33.4min\n",
      "[Parallel(n_jobs=-1)]: Done 4034 tasks      | elapsed: 43.9min\n",
      "[Parallel(n_jobs=-1)]: Done 4984 tasks      | elapsed: 52.6min\n",
      "[Parallel(n_jobs=-1)]: Done 6034 tasks      | elapsed: 63.0min\n",
      "[Parallel(n_jobs=-1)]: Done 7184 tasks      | elapsed: 75.6min\n",
      "[Parallel(n_jobs=-1)]: Done 8434 tasks      | elapsed: 87.3min\n",
      "[Parallel(n_jobs=-1)]: Done 9784 tasks      | elapsed: 100.5min\n",
      "[Parallel(n_jobs=-1)]: Done 11234 tasks      | elapsed: 115.9min\n",
      "[Parallel(n_jobs=-1)]: Done 12784 tasks      | elapsed: 134.2min\n",
      "[Parallel(n_jobs=-1)]: Done 14434 tasks      | elapsed: 152.6min\n",
      "[Parallel(n_jobs=-1)]: Done 16184 tasks      | elapsed: 172.6min\n",
      "[Parallel(n_jobs=-1)]: Done 18034 tasks      | elapsed: 191.5min\n",
      "[Parallel(n_jobs=-1)]: Done 19984 tasks      | elapsed: 213.1min\n",
      "[Parallel(n_jobs=-1)]: Done 20000 out of 20000 | elapsed: 213.4min finished\n"
     ]
    },
    {
     "data": {
      "text/plain": [
       "RandomizedSearchCV(cv=10, estimator=RandomForestClassifier(n_jobs=-1),\n",
       "                   n_iter=2000, n_jobs=-1,\n",
       "                   param_distributions={'criterion': ['gini', 'entropy'],\n",
       "                                        'max_depth': [1, 2, 3, 4, 5, 6, 7, 8, 9,\n",
       "                                                      10, 11, 12, 13, 14, 15],\n",
       "                                        'min_samples_leaf': [1, 2, 3, 4, 5, 6,\n",
       "                                                             7, 8, 9, 10],\n",
       "                                        'min_samples_split': [2, 3, 4, 5, 6, 7,\n",
       "                                                              8, 9, 10],\n",
       "                                        'n_estimators': [10, 50, 100, 150,\n",
       "                                                         200]},\n",
       "                   scoring='f1', verbose=1)"
      ]
     },
     "execution_count": 68,
     "metadata": {},
     "output_type": "execute_result"
    }
   ],
   "source": [
    "#Y realizamos la segunda busqueda de parametros con la nueva combinacion de variables\n",
    "grid_search = RandomizedSearchCV(forest, parametros, scoring = 'f1', n_iter = 2000, cv = 10, n_jobs = -1, verbose = 1)\n",
    "grid_search.fit(X_train, y_train)"
   ]
  },
  {
   "cell_type": "code",
   "execution_count": 69,
   "metadata": {},
   "outputs": [
    {
     "data": {
      "text/plain": [
       "{'n_estimators': 150,\n",
       " 'min_samples_split': 3,\n",
       " 'min_samples_leaf': 2,\n",
       " 'max_depth': 15,\n",
       " 'criterion': 'gini'}"
      ]
     },
     "execution_count": 69,
     "metadata": {},
     "output_type": "execute_result"
    }
   ],
   "source": [
    "#Mejor combinacion de parametros\n",
    "grid_search.best_params_"
   ]
  },
  {
   "cell_type": "code",
   "execution_count": 70,
   "metadata": {},
   "outputs": [
    {
     "data": {
      "text/plain": [
       "0.7936506805948909"
      ]
     },
     "execution_count": 70,
     "metadata": {},
     "output_type": "execute_result"
    }
   ],
   "source": [
    "#Mejor score con la combinacion de parametros\n",
    "grid_search.best_score_"
   ]
  },
  {
   "cell_type": "markdown",
   "metadata": {},
   "source": [
    "### Utilizando solamente las variables que nuestro anterior modelo categorizo como de importancia aumentamos nuestra precision en 1%, vamos a validar que esa misma precision se mantenga en los entrenamientos del modelo con los parametros encontrados."
   ]
  },
  {
   "cell_type": "code",
   "execution_count": 71,
   "metadata": {},
   "outputs": [
    {
     "name": "stderr",
     "output_type": "stream",
     "text": [
      "[Parallel(n_jobs=-1)]: Using backend LokyBackend with 8 concurrent workers.\n",
      "[Parallel(n_jobs=-1)]: Done  12 out of  20 | elapsed:   23.0s remaining:   15.3s\n",
      "[Parallel(n_jobs=-1)]: Done  20 out of  20 | elapsed:   30.7s finished\n"
     ]
    }
   ],
   "source": [
    "forest = RandomForestClassifier(n_estimators = 150, min_samples_split = 3, min_samples_leaf = 2, max_depth = 15,\n",
    "                                criterion = 'gini')\n",
    "\n",
    "#Utilizamos el metodo cross validation para tener un promedio de 20 diferentes modelos en sets diferentes.\n",
    "scores = cross_val_score(forest, X_train, y_train, cv = 20, n_jobs = -1, verbose = 3)"
   ]
  },
  {
   "cell_type": "code",
   "execution_count": 72,
   "metadata": {},
   "outputs": [
    {
     "name": "stdout",
     "output_type": "stream",
     "text": [
      "0.789085281125229\n"
     ]
    }
   ],
   "source": [
    "#Presentamos el promedio de la metrica.\n",
    "print(np.mean(scores))"
   ]
  },
  {
   "cell_type": "markdown",
   "metadata": {},
   "source": [
    "### Al parecer tendremos la misma precision que el anterior modelo."
   ]
  },
  {
   "cell_type": "code",
   "execution_count": 73,
   "metadata": {},
   "outputs": [
    {
     "data": {
      "text/plain": [
       "RandomForestClassifier(max_depth=15, min_samples_leaf=2, min_samples_split=3,\n",
       "                       n_estimators=150)"
      ]
     },
     "execution_count": 73,
     "metadata": {},
     "output_type": "execute_result"
    }
   ],
   "source": [
    "forest.fit(X_train, y_train)"
   ]
  },
  {
   "cell_type": "code",
   "execution_count": 74,
   "metadata": {},
   "outputs": [
    {
     "name": "stdout",
     "output_type": "stream",
     "text": [
      "Matriz de confucion\n",
      " [[3547  993]\n",
      " [ 848 3692]]\n",
      "\n",
      "Reporte de clasificacion\n",
      "               precision    recall  f1-score   support\n",
      "\n",
      "           0       0.81      0.78      0.79      4540\n",
      "           1       0.79      0.81      0.80      4540\n",
      "\n",
      "    accuracy                           0.80      9080\n",
      "   macro avg       0.80      0.80      0.80      9080\n",
      "weighted avg       0.80      0.80      0.80      9080\n",
      "\n"
     ]
    }
   ],
   "source": [
    "y_pred = forest.predict(X_test)\n",
    "\n",
    "print('Matriz de confucion\\n', confusion_matrix(y_test, y_pred))\n",
    "print('\\nReporte de clasificacion\\n',classification_report(y_test, y_pred))"
   ]
  },
  {
   "cell_type": "markdown",
   "metadata": {},
   "source": [
    "### Y aumentamos nuestra precision a un 80%, nada mal! Validemos que los parametros realmente son los de mayor importancia para el modelo."
   ]
  },
  {
   "cell_type": "code",
   "execution_count": 75,
   "metadata": {},
   "outputs": [],
   "source": [
    "#Primero tomamos las variables de importancia y creamos un Series con ellas para presentarlas.\n",
    "feature_importance = pd.Series(forest.feature_importances_, index = dataset_train.drop(['CANCELLED'], axis = 1).columns)\n",
    "feature_importance = feature_importance.sort_values()"
   ]
  },
  {
   "cell_type": "code",
   "execution_count": 76,
   "metadata": {},
   "outputs": [
    {
     "data": {
      "text/plain": [
       "<matplotlib.axes._subplots.AxesSubplot at 0x1ed0c108588>"
      ]
     },
     "execution_count": 76,
     "metadata": {},
     "output_type": "execute_result"
    },
    {
     "data": {
      "image/png": "[encoded data removed]",
      "text/plain": [
       "<Figure size 1224x360 with 1 Axes>"
      ]
     },
     "metadata": {
      "needs_background": "light"
     },
     "output_type": "display_data"
    }
   ],
   "source": [
    "plt.figure(figsize = (17, 5))\n",
    "sns.barplot(feature_importance.index, feature_importance.values)"
   ]
  },
  {
   "cell_type": "markdown",
   "metadata": {},
   "source": [
    "## Efectivamente las variables mantuvierion su nivel de importancia para el modelo, esta es una de las razones por las cuales elegi RandomForest, ya que nos permite tener una mejor idea de cuales atributos son los que mas aportan para una prediccion precisa, y tambien porque esto hace de este algorimo una especie de \"caja blanca\" donde podemos hacer un analisis del porque esas variables fueron las de mayor importancia y con esto tomar las decisiones adecuadas para la mejora de los servicios."
   ]
  }
 ],
 "metadata": {
  "kernelspec": {
   "display_name": "Python 3",
   "language": "python",
   "name": "python3"
  },
  "language_info": {
   "codemirror_mode": {
    "name": "ipython",
    "version": 3
   },
   "file_extension": ".py",
   "mimetype": "text/x-python",
   "name": "python",
   "nbconvert_exporter": "python",
   "pygments_lexer": "ipython3",
   "version": "3.7.7"
  }
 },
 "nbformat": 4,
 "nbformat_minor": 4
}
